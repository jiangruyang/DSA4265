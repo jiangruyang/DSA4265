{
 "cells": [
  {
   "cell_type": "markdown",
   "metadata": {},
   "source": [
    "# Vector Store and Question Generation\n",
    "\n",
    "This notebook explores the setting up of a vector store with both PDF and JSON documents for RAG, a sanity check for the similarity-search task and question generation."
   ]
  },
  {
   "cell_type": "markdown",
   "metadata": {},
   "source": [
    "## Initialization"
   ]
  },
  {
   "cell_type": "code",
   "execution_count": 1,
   "metadata": {},
   "outputs": [],
   "source": [
    "# %pip install -qU \"langchain-chroma>=0.1.2\"\n",
    "# %pip install -qU langchain-openai\n",
    "# %pip install -qU langchain"
   ]
  },
  {
   "cell_type": "code",
   "execution_count": 2,
   "metadata": {},
   "outputs": [],
   "source": [
    "from langchain_openai import OpenAIEmbeddings\n",
    "import getpass\n",
    "import os\n",
    "\n",
    "if not os.environ.get(\"OPENAI_API_KEY\"):\n",
    "  os.environ[\"OPENAI_API_KEY\"] = getpass.getpass(\"Enter API key for OpenAI: \")\n",
    "\n",
    "embeddings = OpenAIEmbeddings(model=\"text-embedding-3-large\")"
   ]
  },
  {
   "cell_type": "markdown",
   "metadata": {},
   "source": [
    "## Vector Store"
   ]
  },
  {
   "cell_type": "code",
   "execution_count": 3,
   "metadata": {},
   "outputs": [],
   "source": [
    "import json\n",
    "from uuid import uuid4\n",
    "from langchain_core.documents import Document\n",
    "from langchain_chroma import Chroma\n",
    "\n",
    "json_store = Chroma(\n",
    "    collection_name=\"json_store\",\n",
    "    embedding_function=embeddings,\n",
    ")\n",
    "\n",
    "documents = []\n",
    "for file in os.listdir(\"../data/card/json\"):\n",
    "    with open(os.path.join(\"../data/card/json\", file), \"r\", encoding=\"utf-8\") as f:\n",
    "        card = json.load(f)\n",
    "        documents.append(Document(\n",
    "            metadata={\n",
    "                \"card_name\" : card[\"card_name\"],\n",
    "                \"card_type\" : card[\"card_type\"],\n",
    "                \"issuer\" : card[\"issuer\"],\n",
    "                \"card_association\" : card[\"card_association\"],\n",
    "            },\n",
    "            page_content=json.dumps(card)\n",
    "        ))\n",
    "\n",
    "uuids = [str(uuid4()) for _ in range(len(documents))]\n",
    "json_store.add_documents(documents=documents, ids=uuids)\n",
    "None"
   ]
  },
  {
   "cell_type": "code",
   "execution_count": 4,
   "metadata": {},
   "outputs": [
    {
     "name": "stderr",
     "output_type": "stream",
     "text": [
      " 69%|██████▉   | 50/72 [00:18<00:22,  1.01s/it]Overwriting cache for 0 372\n",
      "100%|██████████| 72/72 [00:25<00:00,  2.84it/s]\n"
     ]
    }
   ],
   "source": [
    "from pypdf import PdfReader\n",
    "from uuid import uuid4\n",
    "from langchain_core.documents import Document\n",
    "from langchain_chroma import Chroma\n",
    "import tqdm\n",
    "\n",
    "pdf_store = Chroma(\n",
    "    collection_name=\"pdf_store\",\n",
    "    embedding_function=embeddings,\n",
    ")\n",
    "\n",
    "documents = []\n",
    "for file in tqdm.tqdm(os.listdir(\"../data/card/pdf\")):\n",
    "    reader = PdfReader(os.path.join(\"../data/card/pdf\", file))\n",
    "    for i, page in enumerate(reader.pages):\n",
    "        documents.append(Document(\n",
    "        metadata={\n",
    "            \"file_name\" : file,\n",
    "            \"page_number\" : i,\n",
    "        },\n",
    "        page_content=page.extract_text()\n",
    "    ))\n",
    "\n",
    "uuids = [str(uuid4()) for _ in range(len(documents))]\n",
    "pdf_store.add_documents(documents=documents, ids=uuids)\n",
    "None\n"
   ]
  },
  {
   "cell_type": "code",
   "execution_count": 18,
   "metadata": {},
   "outputs": [
    {
     "name": "stdout",
     "output_type": "stream",
     "text": [
      "*  [{'card_association': 'Mastercard', 'card_name': 'Lazada-UOB Card', 'card_type': 'Cash Rebate', 'issuer': 'UOB'}]\n",
      "*  [{'card_association': 'Mastercard', 'card_name': \"DBS Woman's Card\", 'card_type': 'Online Shopping', 'issuer': 'DBS'}]\n",
      "*  [{'card_association': 'Mastercard', 'card_name': 'OCBC NXT Credit Card', 'card_type': 'Buy Now Pay Later', 'issuer': 'OCBC'}]\n",
      "*  [{'card_association': 'Mastercard', 'card_name': 'CIMB World Mastercard', 'card_type': 'Cashback', 'issuer': 'CIMB'}]\n",
      "*  [{'card_association': 'Mastercard', 'card_name': \"UOB Lady's Card\", 'card_type': 'Miles', 'issuer': 'UOB'}]\n"
     ]
    }
   ],
   "source": [
    "# Similarity search test\n",
    "\n",
    "results = json_store.similarity_search(\n",
    "    \"What cards does lazada offer\",\n",
    "    k=5,\n",
    ")\n",
    "\n",
    "for res in results:\n",
    "    print(f\"*  [{res.metadata}]\")\n",
    "    \n",
    "retriever = json_store.as_retriever(search_type=\"similarity\", search_kwargs={\"k\": 5})"
   ]
  },
  {
   "cell_type": "markdown",
   "metadata": {},
   "source": [
    "## Q&A"
   ]
  },
  {
   "cell_type": "code",
   "execution_count": 15,
   "metadata": {},
   "outputs": [
    {
     "name": "stderr",
     "output_type": "stream",
     "text": [
      "c:\\Users\\JW\\Desktop\\DSA4265\\venv\\Lib\\site-packages\\langsmith\\client.py:278: LangSmithMissingAPIKeyWarning: API key must be provided when using hosted LangSmith API\n",
      "  warnings.warn(\n"
     ]
    }
   ],
   "source": [
    "from langchain_openai import ChatOpenAI\n",
    "from langchain_core.output_parsers import StrOutputParser\n",
    "from langchain_core.runnables import RunnablePassthrough\n",
    "\n",
    "from langchain import hub\n",
    "\n",
    "llm = ChatOpenAI(model=\"gpt-3.5-turbo-0125\")\n",
    "prompt = hub.pull(\"rlm/rag-prompt\")\n",
    "\n",
    "def format_docs(docs):\n",
    "    return \"\\n\\n\".join(doc.page_content for doc in docs)\n",
    "\n",
    "rag_chain = (\n",
    "    {\"context\": retriever | format_docs, \"question\": RunnablePassthrough()}\n",
    "    | prompt\n",
    "    | llm\n",
    "    | StrOutputParser()\n",
    ")"
   ]
  },
  {
   "cell_type": "code",
   "execution_count": 17,
   "metadata": {},
   "outputs": [
    {
     "name": "stdout",
     "output_type": "stream",
     "text": [
      "Lazada offers the Lazada-UOB Card, which provides cash rebates on Lazada, Redmart, dining, entertainment, transport, and other spends. The card has an annual fee of S$196.20, and it requires a minimum income of S$30,000 for Singaporeans/PRs. The card is issued by UOB and falls under the card association of Mastercard."
     ]
    }
   ],
   "source": [
    "for chunk in rag_chain.stream(\"What cards does lazada offer?\"):\n",
    "    print(chunk, end=\"\", flush=True)"
   ]
  },
  {
   "cell_type": "markdown",
   "metadata": {},
   "source": [
    "## Question Generation"
   ]
  },
  {
   "cell_type": "code",
   "execution_count": null,
   "metadata": {},
   "outputs": [
    {
     "name": "stderr",
     "output_type": "stream",
     "text": [
      "c:\\Users\\JW\\Desktop\\DSA4265\\venv\\Lib\\site-packages\\langsmith\\client.py:278: LangSmithMissingAPIKeyWarning: API key must be provided when using hosted LangSmith API\n",
      "  warnings.warn(\n"
     ]
    },
    {
     "name": "stdout",
     "output_type": "stream",
     "text": [
      "What is the eligibility criteria for accessing Priority Pass lounges with the Standard Chartered Journey Credit Card?"
     ]
    }
   ],
   "source": [
    "import random\n",
    "\n",
    "llm = ChatOpenAI(model=\"gpt-3.5-turbo-0125\")\n",
    "prompt = hub.pull(\"rlm/rag-prompt\")\n",
    "\n",
    "llm.invoke(\"What cards does lazada offer?\")\n",
    "cards = os.listdir(\"../data/card/json\")\n",
    "\n",
    "rag_chain = (\n",
    "    {\"context\": retriever | format_docs, \"question\": RunnablePassthrough()}\n",
    "    | prompt\n",
    "    | llm\n",
    "    | StrOutputParser()\n",
    ")\n",
    "\n",
    "questions = [\n",
    "    \"What cards does KrisFlyer offer?\",\n",
    "    \"What are the benefits regarding airport lounges?\",\n",
    "    \"What kind of airport lounges are available?\",\n",
    "]\n",
    "\n",
    "prompt = (\n",
    "    # Cold-start question\n",
    "    f\"Come up with a short, one-line question on {cards[random.randint(0, len(cards)-1)]} that can be answered by the following context.\",\n",
    ") if len(questions) == 0 else (\n",
    "    # Chat-history-question\n",
    "    f\"Come up with a short, one-line question.\",\n",
    "    f\"Additionally, make sure the question is relevant to all of these previously asked questions (but do not repeat an existing question): {questions}.\"\n",
    ")\n",
    "\n",
    "for chunk in rag_chain.stream(' '.join(prompt)):\n",
    "    print(chunk, end=\"\", flush=True)"
   ]
  }
 ],
 "metadata": {
  "kernelspec": {
   "display_name": "venv",
   "language": "python",
   "name": "python3"
  },
  "language_info": {
   "codemirror_mode": {
    "name": "ipython",
    "version": 3
   },
   "file_extension": ".py",
   "mimetype": "text/x-python",
   "name": "python",
   "nbconvert_exporter": "python",
   "pygments_lexer": "ipython3",
   "version": "3.12.4"
  }
 },
 "nbformat": 4,
 "nbformat_minor": 2
}
