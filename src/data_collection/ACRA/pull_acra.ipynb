{
 "cells": [
  {
   "cell_type": "code",
   "execution_count": 1,
   "metadata": {},
   "outputs": [],
   "source": [
    "import polars as pl"
   ]
  },
  {
   "cell_type": "code",
   "execution_count": 6,
   "metadata": {},
   "outputs": [
    {
     "data": {
      "text/plain": [
       "[\"ACRA Information on Corporate Entities ('A').csv\",\n",
       " \"ACRA Information on Corporate Entities ('B').csv\",\n",
       " \"ACRA Information on Corporate Entities ('C').csv\",\n",
       " \"ACRA Information on Corporate Entities ('D').csv\",\n",
       " \"ACRA Information on Corporate Entities ('E').csv\",\n",
       " \"ACRA Information on Corporate Entities ('F').csv\",\n",
       " \"ACRA Information on Corporate Entities ('G').csv\",\n",
       " \"ACRA Information on Corporate Entities ('H').csv\",\n",
       " \"ACRA Information on Corporate Entities ('I').csv\",\n",
       " \"ACRA Information on Corporate Entities ('J').csv\",\n",
       " \"ACRA Information on Corporate Entities ('K').csv\",\n",
       " \"ACRA Information on Corporate Entities ('L').csv\",\n",
       " \"ACRA Information on Corporate Entities ('M').csv\",\n",
       " \"ACRA Information on Corporate Entities ('N').csv\",\n",
       " \"ACRA Information on Corporate Entities ('O').csv\",\n",
       " \"ACRA Information on Corporate Entities ('P').csv\",\n",
       " \"ACRA Information on Corporate Entities ('Q').csv\",\n",
       " \"ACRA Information on Corporate Entities ('R').csv\",\n",
       " \"ACRA Information on Corporate Entities ('S').csv\",\n",
       " \"ACRA Information on Corporate Entities ('T').csv\",\n",
       " \"ACRA Information on Corporate Entities ('U').csv\",\n",
       " \"ACRA Information on Corporate Entities ('V').csv\",\n",
       " \"ACRA Information on Corporate Entities ('W').csv\",\n",
       " \"ACRA Information on Corporate Entities ('X').csv\",\n",
       " \"ACRA Information on Corporate Entities ('Y').csv\",\n",
       " \"ACRA Information on Corporate Entities ('Z').csv\",\n",
       " \"ACRA Information on Corporate Entities ('Others').csv\"]"
      ]
     },
     "execution_count": 6,
     "metadata": {},
     "output_type": "execute_result"
    }
   ],
   "source": [
    "csv_file_names = [\n",
    "    f\"ACRA Information on Corporate Entities ('{chr(i)}').csv\"\n",
    "    for i in range(65, 91) \n",
    "] + [\"ACRA Information on Corporate Entities ('Others').csv\"]\n",
    "\n",
    "csv_file_names"
   ]
  },
  {
   "cell_type": "code",
   "execution_count": null,
   "metadata": {},
   "outputs": [],
   "source": [
    "import urllib.request\n",
    "import os\n",
    "\n",
    "# Download the SSIC code definitions if not already downloaded\n",
    "if not os.path.exists(\"ssic2020-detailed-definitions.xlsx\"):\n",
    "    urllib.request.urlretrieve(\n",
    "        'https://www.singstat.gov.sg/-/media/files/standards_and_classifications/'\n",
    "        + 'industrial_classification/ssic2020-detailed-definitions.ashx',\n",
    "        'ssic2020-detailed-definitions.xlsx'\n",
    "    )"
   ]
  },
  {
   "cell_type": "code",
   "execution_count": 15,
   "metadata": {},
   "outputs": [
    {
     "data": {
      "text/html": [
       "<div><style>\n",
       ".dataframe > thead > tr,\n",
       ".dataframe > tbody > tr {\n",
       "  text-align: right;\n",
       "  white-space: pre-wrap;\n",
       "}\n",
       "</style>\n",
       "<small>shape: (5, 53)</small><table border=\"1\" class=\"dataframe\"><thead><tr><th>uen</th><th>issuance_agency_id</th><th>entity_name</th><th>entity_type_description</th><th>business_constitution_description</th><th>company_type_description</th><th>paf_constitution_description</th><th>entity_status_description</th><th>registration_incorporation_date</th><th>uen_issue_date</th><th>address_type</th><th>block</th><th>street_name</th><th>level_no</th><th>unit_no</th><th>building_name</th><th>postal_code</th><th>other_address_line1</th><th>other_address_line2</th><th>account_due_date</th><th>annual_return_date</th><th>primary_ssic_code</th><th>primary_ssic_description</th><th>primary_user_described_activity</th><th>secondary_ssic_code</th><th>secondary_ssic_description</th><th>secondary_user_described_activity</th><th>no_of_officers</th><th>former_entity_name1</th><th>former_entity_name2</th><th>former_entity_name3</th><th>former_entity_name4</th><th>former_entity_name5</th><th>former_entity_name6</th><th>former_entity_name7</th><th>former_entity_name8</th><th>former_entity_name9</th><th>former_entity_name10</th><th>former_entity_name11</th><th>former_entity_name12</th><th>former_entity_name13</th><th>former_entity_name14</th><th>former_entity_name15</th><th>uen_of_audit_firm1</th><th>name_of_audit_firm1</th><th>uen_of_audit_firm2</th><th>name_of_audit_firm2</th><th>uen_of_audit_firm3</th><th>name_of_audit_firm3</th><th>uen_of_audit_firm4</th><th>name_of_audit_firm4</th><th>uen_of_audit_firm5</th><th>name_of_audit_firm5</th></tr><tr><td>str</td><td>str</td><td>str</td><td>str</td><td>str</td><td>str</td><td>str</td><td>str</td><td>str</td><td>str</td><td>str</td><td>str</td><td>str</td><td>str</td><td>str</td><td>str</td><td>str</td><td>str</td><td>str</td><td>str</td><td>str</td><td>i64</td><td>str</td><td>str</td><td>str</td><td>str</td><td>str</td><td>i64</td><td>str</td><td>str</td><td>str</td><td>str</td><td>str</td><td>str</td><td>str</td><td>str</td><td>str</td><td>str</td><td>str</td><td>str</td><td>str</td><td>str</td><td>str</td><td>str</td><td>str</td><td>str</td><td>str</td><td>str</td><td>str</td><td>str</td><td>str</td><td>str</td><td>str</td></tr></thead><tbody><tr><td>&quot;00022100K&quot;</td><td>&quot;ACRA&quot;</td><td>&quot;A Y ABDUL RAHIMAN&quot;</td><td>&quot;Sole Proprietorship/ Partnersh…</td><td>&quot;Partnership&quot;</td><td>null</td><td>null</td><td>&quot;Terminated&quot;</td><td>&quot;1974-10-09&quot;</td><td>&quot;1974-10-09&quot;</td><td>&quot;LOCAL&quot;</td><td>&quot;51&quot;</td><td>&quot;EAST COAST ROAD&quot;</td><td>null</td><td>null</td><td>null</td><td>&quot;428770&quot;</td><td>null</td><td>null</td><td>null</td><td>null</td><td>47722</td><td>null</td><td>null</td><td>null</td><td>null</td><td>null</td><td>7</td><td>null</td><td>null</td><td>null</td><td>null</td><td>null</td><td>null</td><td>null</td><td>null</td><td>null</td><td>null</td><td>null</td><td>null</td><td>null</td><td>null</td><td>null</td><td>null</td><td>null</td><td>null</td><td>null</td><td>null</td><td>null</td><td>null</td><td>null</td><td>null</td><td>null</td></tr><tr><td>&quot;00031800X&quot;</td><td>&quot;ACRA&quot;</td><td>&quot;A M ABDULLAH SAHIB &amp; CO&quot;</td><td>&quot;Sole Proprietorship/ Partnersh…</td><td>&quot;Partnership&quot;</td><td>null</td><td>null</td><td>&quot;Terminated&quot;</td><td>&quot;1974-10-12&quot;</td><td>&quot;1974-10-12&quot;</td><td>&quot;LOCAL&quot;</td><td>&quot;93&quot;</td><td>&quot;MARKET STREET&quot;</td><td>&quot;10&quot;</td><td>&quot;01&quot;</td><td>null</td><td>&quot;0104&quot;</td><td>null</td><td>null</td><td>null</td><td>null</td><td>46301</td><td>null</td><td>null</td><td>&quot;32909&quot;</td><td>null</td><td>null</td><td>6</td><td>null</td><td>null</td><td>null</td><td>null</td><td>null</td><td>null</td><td>null</td><td>null</td><td>null</td><td>null</td><td>null</td><td>null</td><td>null</td><td>null</td><td>null</td><td>null</td><td>null</td><td>null</td><td>null</td><td>null</td><td>null</td><td>null</td><td>null</td><td>null</td><td>null</td></tr><tr><td>&quot;00043100A&quot;</td><td>&quot;ACRA&quot;</td><td>&quot;ANN LEE YUEN&quot;</td><td>&quot;Sole Proprietorship/ Partnersh…</td><td>&quot;Partnership&quot;</td><td>null</td><td>null</td><td>&quot;Terminated&quot;</td><td>&quot;1974-09-20&quot;</td><td>&quot;1974-09-20&quot;</td><td>&quot;LOCAL&quot;</td><td>&quot;178&quot;</td><td>&quot;BENCOOLEN STREET&quot;</td><td>null</td><td>null</td><td>null</td><td>&quot;0718&quot;</td><td>null</td><td>null</td><td>null</td><td>null</td><td>68104</td><td>null</td><td>null</td><td>null</td><td>null</td><td>null</td><td>3</td><td>null</td><td>null</td><td>null</td><td>null</td><td>null</td><td>null</td><td>null</td><td>null</td><td>null</td><td>null</td><td>null</td><td>null</td><td>null</td><td>null</td><td>null</td><td>null</td><td>null</td><td>null</td><td>null</td><td>null</td><td>null</td><td>null</td><td>null</td><td>null</td><td>null</td></tr><tr><td>&quot;00043800J&quot;</td><td>&quot;ACRA&quot;</td><td>&quot;AI HOU KEE ORIENTAL LOUNGE&quot;</td><td>&quot;Sole Proprietorship/ Partnersh…</td><td>&quot;Sole-Proprietor&quot;</td><td>null</td><td>null</td><td>&quot;Cancelled&quot;</td><td>&quot;1974-09-25&quot;</td><td>&quot;1974-09-25&quot;</td><td>&quot;LOCAL&quot;</td><td>&quot;21&quot;</td><td>&quot;KILLINEY ROAD&quot;</td><td>null</td><td>null</td><td>null</td><td>&quot;0923&quot;</td><td>null</td><td>null</td><td>null</td><td>null</td><td>56111</td><td>null</td><td>null</td><td>&quot;56122&quot;</td><td>null</td><td>null</td><td>1</td><td>null</td><td>null</td><td>null</td><td>null</td><td>null</td><td>null</td><td>null</td><td>null</td><td>null</td><td>null</td><td>null</td><td>null</td><td>null</td><td>null</td><td>null</td><td>null</td><td>null</td><td>null</td><td>null</td><td>null</td><td>null</td><td>null</td><td>null</td><td>null</td><td>null</td></tr><tr><td>&quot;00063200K&quot;</td><td>&quot;ACRA&quot;</td><td>&quot;A M NAINA MOHAMED AND COMPANY&quot;</td><td>&quot;Sole Proprietorship/ Partnersh…</td><td>&quot;Partnership&quot;</td><td>null</td><td>null</td><td>&quot;Cancelled&quot;</td><td>&quot;1974-10-21&quot;</td><td>&quot;1974-10-21&quot;</td><td>&quot;LOCAL&quot;</td><td>&quot;30&quot;</td><td>&quot;BRANKSOME ROAD&quot;</td><td>null</td><td>null</td><td>null</td><td>&quot;439561&quot;</td><td>null</td><td>null</td><td>null</td><td>null</td><td>47102</td><td>null</td><td>null</td><td>null</td><td>null</td><td>null</td><td>5</td><td>null</td><td>null</td><td>null</td><td>null</td><td>null</td><td>null</td><td>null</td><td>null</td><td>null</td><td>null</td><td>null</td><td>null</td><td>null</td><td>null</td><td>null</td><td>null</td><td>null</td><td>null</td><td>null</td><td>null</td><td>null</td><td>null</td><td>null</td><td>null</td><td>null</td></tr></tbody></table></div>"
      ],
      "text/plain": [
       "shape: (5, 53)\n",
       "┌───────────┬───────────┬───────────┬───────────┬───┬───────────┬───────────┬───────────┬──────────┐\n",
       "│ uen       ┆ issuance_ ┆ entity_na ┆ entity_ty ┆ … ┆ uen_of_au ┆ name_of_a ┆ uen_of_au ┆ name_of_ │\n",
       "│ ---       ┆ agency_id ┆ me        ┆ pe_descri ┆   ┆ dit_firm4 ┆ udit_firm ┆ dit_firm5 ┆ audit_fi │\n",
       "│ str       ┆ ---       ┆ ---       ┆ ption     ┆   ┆ ---       ┆ 4         ┆ ---       ┆ rm5      │\n",
       "│           ┆ str       ┆ str       ┆ ---       ┆   ┆ str       ┆ ---       ┆ str       ┆ ---      │\n",
       "│           ┆           ┆           ┆ str       ┆   ┆           ┆ str       ┆           ┆ str      │\n",
       "╞═══════════╪═══════════╪═══════════╪═══════════╪═══╪═══════════╪═══════════╪═══════════╪══════════╡\n",
       "│ 00022100K ┆ ACRA      ┆ A Y ABDUL ┆ Sole Prop ┆ … ┆ null      ┆ null      ┆ null      ┆ null     │\n",
       "│           ┆           ┆ RAHIMAN   ┆ rietorshi ┆   ┆           ┆           ┆           ┆          │\n",
       "│           ┆           ┆           ┆ p/ Partne ┆   ┆           ┆           ┆           ┆          │\n",
       "│           ┆           ┆           ┆ rsh…      ┆   ┆           ┆           ┆           ┆          │\n",
       "│ 00031800X ┆ ACRA      ┆ A M       ┆ Sole Prop ┆ … ┆ null      ┆ null      ┆ null      ┆ null     │\n",
       "│           ┆           ┆ ABDULLAH  ┆ rietorshi ┆   ┆           ┆           ┆           ┆          │\n",
       "│           ┆           ┆ SAHIB &   ┆ p/ Partne ┆   ┆           ┆           ┆           ┆          │\n",
       "│           ┆           ┆ CO        ┆ rsh…      ┆   ┆           ┆           ┆           ┆          │\n",
       "│ 00043100A ┆ ACRA      ┆ ANN LEE   ┆ Sole Prop ┆ … ┆ null      ┆ null      ┆ null      ┆ null     │\n",
       "│           ┆           ┆ YUEN      ┆ rietorshi ┆   ┆           ┆           ┆           ┆          │\n",
       "│           ┆           ┆           ┆ p/ Partne ┆   ┆           ┆           ┆           ┆          │\n",
       "│           ┆           ┆           ┆ rsh…      ┆   ┆           ┆           ┆           ┆          │\n",
       "│ 00043800J ┆ ACRA      ┆ AI HOU    ┆ Sole Prop ┆ … ┆ null      ┆ null      ┆ null      ┆ null     │\n",
       "│           ┆           ┆ KEE       ┆ rietorshi ┆   ┆           ┆           ┆           ┆          │\n",
       "│           ┆           ┆ ORIENTAL  ┆ p/ Partne ┆   ┆           ┆           ┆           ┆          │\n",
       "│           ┆           ┆ LOUNGE    ┆ rsh…      ┆   ┆           ┆           ┆           ┆          │\n",
       "│ 00063200K ┆ ACRA      ┆ A M NAINA ┆ Sole Prop ┆ … ┆ null      ┆ null      ┆ null      ┆ null     │\n",
       "│           ┆           ┆ MOHAMED   ┆ rietorshi ┆   ┆           ┆           ┆           ┆          │\n",
       "│           ┆           ┆ AND       ┆ p/ Partne ┆   ┆           ┆           ┆           ┆          │\n",
       "│           ┆           ┆ COMPANY   ┆ rsh…      ┆   ┆           ┆           ┆           ┆          │\n",
       "└───────────┴───────────┴───────────┴───────────┴───┴───────────┴───────────┴───────────┴──────────┘"
      ]
     },
     "execution_count": 15,
     "metadata": {},
     "output_type": "execute_result"
    }
   ],
   "source": [
    "# Columns to force to string\n",
    "schema_overrides = {\n",
    "    \"postal_code\": pl.Utf8,\n",
    "    \"level_no\": pl.Utf8,\n",
    "    \"unit_no\": pl.Utf8,\n",
    "    \"secondary_ssic_code\": pl.Utf8\n",
    "}\n",
    "\n",
    "# Read all files\n",
    "df = pl.concat([\n",
    "    pl.scan_csv(file, null_values=\"na\", schema_overrides=schema_overrides)\n",
    "    for file in csv_file_names\n",
    "]).collect()\n",
    "\n",
    "df.head()"
   ]
  },
  {
   "cell_type": "markdown",
   "metadata": {},
   "source": [
    "### Mapping SSIC codes"
   ]
  },
  {
   "cell_type": "code",
   "execution_count": 45,
   "metadata": {},
   "outputs": [],
   "source": [
    "import urllib.request\n",
    "import os\n",
    "\n",
    "# Download the SSIC code definitions if not already downloaded\n",
    "if not os.path.exists(\"ssic2020-detailed-definitions.xlsx\"):\n",
    "    urllib.request.urlretrieve(\n",
    "        'https://www.singstat.gov.sg/-/media/files/standards_and_classifications/'\n",
    "        + 'industrial_classification/ssic2020-detailed-definitions.ashx',\n",
    "        'ssic2020-detailed-definitions.xlsx'\n",
    "    )"
   ]
  },
  {
   "cell_type": "code",
   "execution_count": 40,
   "metadata": {},
   "outputs": [
    {
     "data": {
      "text/html": [
       "<div><style>\n",
       ".dataframe > thead > tr,\n",
       ".dataframe > tbody > tr {\n",
       "  text-align: right;\n",
       "  white-space: pre-wrap;\n",
       "}\n",
       "</style>\n",
       "<small>shape: (1_711, 6)</small><table border=\"1\" class=\"dataframe\"><thead><tr><th>Singapore Standard Industrial Classification 2020 – Detailed Definitions</th><th>__UNNAMED__1</th><th>__UNNAMED__2</th><th>__UNNAMED__3</th><th>__UNNAMED__4</th><th>__UNNAMED__5</th></tr><tr><td>str</td><td>str</td><td>str</td><td>str</td><td>str</td><td>str</td></tr></thead><tbody><tr><td>&quot;A&quot;</td><td>&quot;AGRICULTURE AND FISHING&quot;</td><td>&quot;•01 AGRICULTURE AND RELATED SE…</td><td>&quot;&lt;Blank&gt;&quot;</td><td>&quot;&lt;Blank&gt;&quot;</td><td>&quot;&lt;Blank&gt;&quot;</td></tr><tr><td>&quot;01&quot;</td><td>&quot;AGRICULTURE AND RELATED SERVIC…</td><td>&quot;•011 GROWING OF CROPS, MARKET …</td><td>&quot;&lt;Blank&gt;&quot;</td><td>&quot;&lt;Blank&gt;&quot;</td><td>&quot;&lt;Blank&gt;&quot;</td></tr><tr><td>&quot;011&quot;</td><td>&quot;GROWING OF CROPS, MARKET GARDE…</td><td>&quot;•0111 Growing of Food Crops (N…</td><td>&quot;&lt;Blank&gt;&quot;</td><td>&quot;&lt;Blank&gt;&quot;</td><td>&quot;&lt;Blank&gt;&quot;</td></tr><tr><td>&quot;0111&quot;</td><td>&quot;Growing of Food Crops (Non-Hyd…</td><td>&quot;•01111 Growing of leafy and fr…</td><td>&quot;&lt;Blank&gt;&quot;</td><td>&quot;&lt;Blank&gt;&quot;</td><td>&quot;&lt;Blank&gt;&quot;</td></tr><tr><td>&quot;01111&quot;</td><td>&quot;Growing of leafy and fruit veg…</td><td>&quot;&lt;Blank&gt;&quot;</td><td>&quot;This sub-class includes the cu…</td><td>&quot;•growing of mushrooms, see 011…</td><td>&quot;&lt;Blank&gt;&quot;</td></tr><tr><td>&hellip;</td><td>&hellip;</td><td>&hellip;</td><td>&hellip;</td><td>&hellip;</td><td>&hellip;</td></tr><tr><td>&quot;99010&quot;</td><td>&quot;Foreign embassies and trade re…</td><td>&quot;&lt;Blank&gt;&quot;</td><td>&quot;This Sub-class includes activi…</td><td>&quot;&lt;Blank&gt;&quot;</td><td>&quot;&lt;Blank&gt;&quot;</td></tr><tr><td>&quot;9902&quot;</td><td>&quot;Foreign Armed Forces&quot;</td><td>&quot;•99020 Foreign armed forces&quot;</td><td>&quot;&lt;Blank&gt;&quot;</td><td>&quot;&lt;Blank&gt;&quot;</td><td>&quot;&lt;Blank&gt;&quot;</td></tr><tr><td>&quot;99020&quot;</td><td>&quot;Foreign armed forces&quot;</td><td>&quot;&lt;Blank&gt;&quot;</td><td>&quot;This Sub-class includes activi…</td><td>&quot;&lt;Blank&gt;&quot;</td><td>&quot;&lt;Blank&gt;&quot;</td></tr><tr><td>&quot;9909&quot;</td><td>&quot;Other Extra-territorial Organi…</td><td>&quot;•99090 Other extra-territorial…</td><td>&quot;&lt;Blank&gt;&quot;</td><td>&quot;&lt;Blank&gt;&quot;</td><td>&quot;&lt;Blank&gt;&quot;</td></tr><tr><td>&quot;99090&quot;</td><td>&quot;Other extra-territorial organi…</td><td>&quot;&lt;Blank&gt;&quot;</td><td>&quot;This Sub-class includes activi…</td><td>&quot;•activities of foreign embassi…</td><td>&quot;&lt;Blank&gt;&quot;</td></tr></tbody></table></div>"
      ],
      "text/plain": [
       "shape: (1_711, 6)\n",
       "┌────────────────┬────────────────┬────────────────┬────────────────┬───────────────┬──────────────┐\n",
       "│ Singapore      ┆ __UNNAMED__1   ┆ __UNNAMED__2   ┆ __UNNAMED__3   ┆ __UNNAMED__4  ┆ __UNNAMED__5 │\n",
       "│ Standard       ┆ ---            ┆ ---            ┆ ---            ┆ ---           ┆ ---          │\n",
       "│ Industrial …   ┆ str            ┆ str            ┆ str            ┆ str           ┆ str          │\n",
       "│ ---            ┆                ┆                ┆                ┆               ┆              │\n",
       "│ str            ┆                ┆                ┆                ┆               ┆              │\n",
       "╞════════════════╪════════════════╪════════════════╪════════════════╪═══════════════╪══════════════╡\n",
       "│ A              ┆ AGRICULTURE    ┆ •01            ┆ <Blank>        ┆ <Blank>       ┆ <Blank>      │\n",
       "│                ┆ AND FISHING    ┆ AGRICULTURE    ┆                ┆               ┆              │\n",
       "│                ┆                ┆ AND RELATED    ┆                ┆               ┆              │\n",
       "│                ┆                ┆ SE…            ┆                ┆               ┆              │\n",
       "│ 01             ┆ AGRICULTURE    ┆ •011 GROWING   ┆ <Blank>        ┆ <Blank>       ┆ <Blank>      │\n",
       "│                ┆ AND RELATED    ┆ OF CROPS,      ┆                ┆               ┆              │\n",
       "│                ┆ SERVIC…        ┆ MARKET …       ┆                ┆               ┆              │\n",
       "│ 011            ┆ GROWING OF     ┆ •0111 Growing  ┆ <Blank>        ┆ <Blank>       ┆ <Blank>      │\n",
       "│                ┆ CROPS, MARKET  ┆ of Food Crops  ┆                ┆               ┆              │\n",
       "│                ┆ GARDE…         ┆ (N…            ┆                ┆               ┆              │\n",
       "│ 0111           ┆ Growing of     ┆ •01111 Growing ┆ <Blank>        ┆ <Blank>       ┆ <Blank>      │\n",
       "│                ┆ Food Crops     ┆ of leafy and   ┆                ┆               ┆              │\n",
       "│                ┆ (Non-Hyd…      ┆ fr…            ┆                ┆               ┆              │\n",
       "│ 01111          ┆ Growing of     ┆ <Blank>        ┆ This sub-class ┆ •growing of   ┆ <Blank>      │\n",
       "│                ┆ leafy and      ┆                ┆ includes the   ┆ mushrooms,    ┆              │\n",
       "│                ┆ fruit veg…     ┆                ┆ cu…            ┆ see 011…      ┆              │\n",
       "│ …              ┆ …              ┆ …              ┆ …              ┆ …             ┆ …            │\n",
       "│ 99010          ┆ Foreign        ┆ <Blank>        ┆ This Sub-class ┆ <Blank>       ┆ <Blank>      │\n",
       "│                ┆ embassies and  ┆                ┆ includes       ┆               ┆              │\n",
       "│                ┆ trade re…      ┆                ┆ activi…        ┆               ┆              │\n",
       "│ 9902           ┆ Foreign Armed  ┆ •99020 Foreign ┆ <Blank>        ┆ <Blank>       ┆ <Blank>      │\n",
       "│                ┆ Forces         ┆ armed forces   ┆                ┆               ┆              │\n",
       "│ 99020          ┆ Foreign armed  ┆ <Blank>        ┆ This Sub-class ┆ <Blank>       ┆ <Blank>      │\n",
       "│                ┆ forces         ┆                ┆ includes       ┆               ┆              │\n",
       "│                ┆                ┆                ┆ activi…        ┆               ┆              │\n",
       "│ 9909           ┆ Other Extra-te ┆ •99090 Other   ┆ <Blank>        ┆ <Blank>       ┆ <Blank>      │\n",
       "│                ┆ rritorial      ┆ extra-territor ┆                ┆               ┆              │\n",
       "│                ┆ Organi…        ┆ ial…           ┆                ┆               ┆              │\n",
       "│ 99090          ┆ Other extra-te ┆ <Blank>        ┆ This Sub-class ┆ •activities   ┆ <Blank>      │\n",
       "│                ┆ rritorial      ┆                ┆ includes       ┆ of foreign    ┆              │\n",
       "│                ┆ organi…        ┆                ┆ activi…        ┆ embassi…      ┆              │\n",
       "└────────────────┴────────────────┴────────────────┴────────────────┴───────────────┴──────────────┘"
      ]
     },
     "execution_count": 40,
     "metadata": {},
     "output_type": "execute_result"
    }
   ],
   "source": [
    "ssic_df = pl.read_excel(\"ssic2020-detailed-definitions.xlsx\")[3:]\n",
    "ssic_df"
   ]
  },
  {
   "cell_type": "code",
   "execution_count": 48,
   "metadata": {},
   "outputs": [
    {
     "data": {
      "text/html": [
       "<div><style>\n",
       ".dataframe > thead > tr,\n",
       ".dataframe > tbody > tr {\n",
       "  text-align: right;\n",
       "  white-space: pre-wrap;\n",
       "}\n",
       "</style>\n",
       "<small>shape: (542_734, 54)</small><table border=\"1\" class=\"dataframe\"><thead><tr><th>uen</th><th>issuance_agency_id</th><th>entity_name</th><th>entity_type_description</th><th>business_constitution_description</th><th>company_type_description</th><th>paf_constitution_description</th><th>entity_status_description</th><th>registration_incorporation_date</th><th>uen_issue_date</th><th>address_type</th><th>block</th><th>street_name</th><th>level_no</th><th>unit_no</th><th>building_name</th><th>postal_code</th><th>other_address_line1</th><th>other_address_line2</th><th>account_due_date</th><th>annual_return_date</th><th>primary_ssic_code</th><th>primary_ssic_description</th><th>primary_user_described_activity</th><th>secondary_ssic_code</th><th>secondary_ssic_description</th><th>secondary_user_described_activity</th><th>no_of_officers</th><th>former_entity_name1</th><th>former_entity_name2</th><th>former_entity_name3</th><th>former_entity_name4</th><th>former_entity_name5</th><th>former_entity_name6</th><th>former_entity_name7</th><th>former_entity_name8</th><th>former_entity_name9</th><th>former_entity_name10</th><th>former_entity_name11</th><th>former_entity_name12</th><th>former_entity_name13</th><th>former_entity_name14</th><th>former_entity_name15</th><th>uen_of_audit_firm1</th><th>name_of_audit_firm1</th><th>uen_of_audit_firm2</th><th>name_of_audit_firm2</th><th>uen_of_audit_firm3</th><th>name_of_audit_firm3</th><th>uen_of_audit_firm4</th><th>name_of_audit_firm4</th><th>uen_of_audit_firm5</th><th>name_of_audit_firm5</th><th>retrieved_ssic_code</th></tr><tr><td>str</td><td>str</td><td>str</td><td>str</td><td>str</td><td>str</td><td>str</td><td>str</td><td>str</td><td>str</td><td>str</td><td>str</td><td>str</td><td>str</td><td>str</td><td>str</td><td>str</td><td>str</td><td>str</td><td>str</td><td>str</td><td>i64</td><td>str</td><td>str</td><td>str</td><td>str</td><td>str</td><td>i64</td><td>str</td><td>str</td><td>str</td><td>str</td><td>str</td><td>str</td><td>str</td><td>str</td><td>str</td><td>str</td><td>str</td><td>str</td><td>str</td><td>str</td><td>str</td><td>str</td><td>str</td><td>str</td><td>str</td><td>str</td><td>str</td><td>str</td><td>str</td><td>str</td><td>str</td><td>str</td></tr></thead><tbody><tr><td>&quot;00182000A&quot;</td><td>&quot;ACRA&quot;</td><td>&quot;AIK SENG HENG&quot;</td><td>&quot;Sole Proprietorship/ Partnersh…</td><td>&quot;Partnership&quot;</td><td>null</td><td>null</td><td>&quot;Live&quot;</td><td>&quot;1975-02-07&quot;</td><td>&quot;1975-02-07&quot;</td><td>&quot;LOCAL&quot;</td><td>&quot;35&quot;</td><td>&quot;FISHERY PORT ROAD&quot;</td><td>&quot;RM&quot;</td><td>&quot;212&quot;</td><td>&quot;NEW FISH MERCHANT BUILDING&quot;</td><td>&quot;619742&quot;</td><td>null</td><td>null</td><td>null</td><td>null</td><td>46302</td><td>&quot;WHOLESALE FISH MERCHANT AND TR…</td><td>null</td><td>null</td><td>&quot;WHOLESALE FISH MERCHANT AND TR…</td><td>null</td><td>5</td><td>null</td><td>null</td><td>null</td><td>null</td><td>null</td><td>null</td><td>null</td><td>null</td><td>null</td><td>null</td><td>null</td><td>null</td><td>null</td><td>null</td><td>null</td><td>null</td><td>null</td><td>null</td><td>null</td><td>null</td><td>null</td><td>null</td><td>null</td><td>null</td><td>null</td><td>&quot;46302&quot;</td></tr><tr><td>&quot;00233500W&quot;</td><td>&quot;ACRA&quot;</td><td>&quot;ASIA STORE&quot;</td><td>&quot;Sole Proprietorship/ Partnersh…</td><td>&quot;Partnership&quot;</td><td>null</td><td>null</td><td>&quot;Live&quot;</td><td>&quot;1974-10-28&quot;</td><td>&quot;1974-10-28&quot;</td><td>&quot;LOCAL&quot;</td><td>&quot;232&quot;</td><td>&quot;SIMS AVENUE&quot;</td><td>null</td><td>null</td><td>null</td><td>&quot;387509&quot;</td><td>null</td><td>null</td><td>null</td><td>null</td><td>46411</td><td>&quot;MANUF CHEMICAL PRODS NEC (EG. …</td><td>null</td><td>&quot;20234&quot;</td><td>&quot;MANUF CHEMICAL PRODS NEC (EG. …</td><td>null</td><td>3</td><td>null</td><td>null</td><td>null</td><td>null</td><td>null</td><td>null</td><td>null</td><td>null</td><td>null</td><td>null</td><td>null</td><td>null</td><td>null</td><td>null</td><td>null</td><td>null</td><td>null</td><td>null</td><td>null</td><td>null</td><td>null</td><td>null</td><td>null</td><td>null</td><td>null</td><td>&quot;46411&quot;</td></tr><tr><td>&quot;00733000J&quot;</td><td>&quot;ACRA&quot;</td><td>&quot;AIK CHE HIONG&quot;</td><td>&quot;Sole Proprietorship/ Partnersh…</td><td>&quot;Partnership&quot;</td><td>null</td><td>null</td><td>&quot;Live&quot;</td><td>&quot;1974-11-02&quot;</td><td>&quot;1974-11-02&quot;</td><td>&quot;LOCAL&quot;</td><td>&quot;1&quot;</td><td>&quot;ANG MO KIO INDUSTRIAL PARK 2A&quot;</td><td>&quot;01&quot;</td><td>&quot;09&quot;</td><td>&quot;AMK TECH I&quot;</td><td>&quot;568049&quot;</td><td>null</td><td>null</td><td>null</td><td>null</td><td>82999</td><td>&quot;MANUFACTURED JOSS STICK&quot;</td><td>null</td><td>&quot;46499&quot;</td><td>&quot;MANUFACTURED JOSS STICK&quot;</td><td>null</td><td>3</td><td>null</td><td>null</td><td>null</td><td>null</td><td>null</td><td>null</td><td>null</td><td>null</td><td>null</td><td>null</td><td>null</td><td>null</td><td>null</td><td>null</td><td>null</td><td>null</td><td>null</td><td>null</td><td>null</td><td>null</td><td>null</td><td>null</td><td>null</td><td>null</td><td>null</td><td>&quot;82999&quot;</td></tr><tr><td>&quot;00927000X&quot;</td><td>&quot;ACRA&quot;</td><td>&quot;A WALIMOHAMED BROS&quot;</td><td>&quot;Sole Proprietorship/ Partnersh…</td><td>&quot;Partnership&quot;</td><td>null</td><td>null</td><td>&quot;Live&quot;</td><td>&quot;1974-11-12&quot;</td><td>&quot;1974-11-12&quot;</td><td>&quot;LOCAL&quot;</td><td>&quot;70&quot;</td><td>&quot;JELLICOE ROAD&quot;</td><td>&quot;01&quot;</td><td>&quot;05&quot;</td><td>&quot;V HOTEL LAVENDER&quot;</td><td>&quot;208767&quot;</td><td>null</td><td>null</td><td>null</td><td>null</td><td>46411</td><td>null</td><td>null</td><td>&quot;66126&quot;</td><td>null</td><td>null</td><td>7</td><td>null</td><td>null</td><td>null</td><td>null</td><td>null</td><td>null</td><td>null</td><td>null</td><td>null</td><td>null</td><td>null</td><td>null</td><td>null</td><td>null</td><td>null</td><td>null</td><td>null</td><td>null</td><td>null</td><td>null</td><td>null</td><td>null</td><td>null</td><td>null</td><td>null</td><td>&quot;46411&quot;</td></tr><tr><td>&quot;01173000E&quot;</td><td>&quot;ACRA&quot;</td><td>&quot;ANG TECK MOH DEPARTMENT STORE&quot;</td><td>&quot;Sole Proprietorship/ Partnersh…</td><td>&quot;Partnership&quot;</td><td>null</td><td>null</td><td>&quot;Live&quot;</td><td>&quot;1974-10-30&quot;</td><td>&quot;1974-10-30&quot;</td><td>&quot;LOCAL&quot;</td><td>&quot;4&quot;</td><td>&quot;WOODLANDS STREET 12&quot;</td><td>&quot;02&quot;</td><td>&quot;31&quot;</td><td>null</td><td>&quot;738623&quot;</td><td>null</td><td>null</td><td>null</td><td>null</td><td>47711</td><td>&quot;INC CHILDREN / INFANTS&#x27; WEAR, …</td><td>null</td><td>&quot;47214&quot;</td><td>&quot;INC CHILDREN / INFANTS&#x27; WEAR, …</td><td>null</td><td>4</td><td>null</td><td>null</td><td>null</td><td>null</td><td>null</td><td>null</td><td>null</td><td>null</td><td>null</td><td>null</td><td>null</td><td>null</td><td>null</td><td>null</td><td>null</td><td>null</td><td>null</td><td>null</td><td>null</td><td>null</td><td>null</td><td>null</td><td>null</td><td>null</td><td>null</td><td>&quot;47711&quot;</td></tr><tr><td>&hellip;</td><td>&hellip;</td><td>&hellip;</td><td>&hellip;</td><td>&hellip;</td><td>&hellip;</td><td>&hellip;</td><td>&hellip;</td><td>&hellip;</td><td>&hellip;</td><td>&hellip;</td><td>&hellip;</td><td>&hellip;</td><td>&hellip;</td><td>&hellip;</td><td>&hellip;</td><td>&hellip;</td><td>&hellip;</td><td>&hellip;</td><td>&hellip;</td><td>&hellip;</td><td>&hellip;</td><td>&hellip;</td><td>&hellip;</td><td>&hellip;</td><td>&hellip;</td><td>&hellip;</td><td>&hellip;</td><td>&hellip;</td><td>&hellip;</td><td>&hellip;</td><td>&hellip;</td><td>&hellip;</td><td>&hellip;</td><td>&hellip;</td><td>&hellip;</td><td>&hellip;</td><td>&hellip;</td><td>&hellip;</td><td>&hellip;</td><td>&hellip;</td><td>&hellip;</td><td>&hellip;</td><td>&hellip;</td><td>&hellip;</td><td>&hellip;</td><td>&hellip;</td><td>&hellip;</td><td>&hellip;</td><td>&hellip;</td><td>&hellip;</td><td>&hellip;</td><td>&hellip;</td><td>&hellip;</td></tr><tr><td>&quot;T24LL1209C&quot;</td><td>&quot;ACRA&quot;</td><td>&quot;3Z OCEAN Limited Liability Par…</td><td>&quot;Limited Liability Partnership&quot;</td><td>null</td><td>null</td><td>null</td><td>&quot;Live&quot;</td><td>&quot;2024-11-04&quot;</td><td>&quot;2024-11-04&quot;</td><td>&quot;LOCAL&quot;</td><td>&quot;134&quot;</td><td>&quot;MARSILING ROAD&quot;</td><td>&quot;08&quot;</td><td>&quot;2122&quot;</td><td>null</td><td>&quot;730134&quot;</td><td>null</td><td>null</td><td>&quot;2026-02-04&quot;</td><td>null</td><td>46661</td><td>&quot;46661&quot;</td><td>null</td><td>&quot;64202&quot;</td><td>&quot;46661&quot;</td><td>null</td><td>2</td><td>null</td><td>null</td><td>null</td><td>null</td><td>null</td><td>null</td><td>null</td><td>null</td><td>null</td><td>null</td><td>null</td><td>null</td><td>null</td><td>null</td><td>null</td><td>null</td><td>null</td><td>null</td><td>null</td><td>null</td><td>null</td><td>null</td><td>null</td><td>null</td><td>null</td><td>&quot;46661&quot;</td></tr><tr><td>&quot;T24LL1270H&quot;</td><td>&quot;ACRA&quot;</td><td>&quot;3REE INVESTMENTS LLP&quot;</td><td>&quot;Limited Liability Partnership&quot;</td><td>null</td><td>null</td><td>null</td><td>&quot;Live&quot;</td><td>&quot;2024-11-22&quot;</td><td>&quot;2024-11-22&quot;</td><td>&quot;LOCAL&quot;</td><td>&quot;79E&quot;</td><td>&quot;TOA PAYOH CENTRAL&quot;</td><td>&quot;03&quot;</td><td>&quot;65&quot;</td><td>&quot;CENTRAL HORIZON&quot;</td><td>&quot;315079&quot;</td><td>null</td><td>null</td><td>&quot;2026-02-22&quot;</td><td>null</td><td>46900</td><td>null</td><td>null</td><td>&quot;64202&quot;</td><td>null</td><td>null</td><td>2</td><td>null</td><td>null</td><td>null</td><td>null</td><td>null</td><td>null</td><td>null</td><td>null</td><td>null</td><td>null</td><td>null</td><td>null</td><td>null</td><td>null</td><td>null</td><td>null</td><td>null</td><td>null</td><td>null</td><td>null</td><td>null</td><td>null</td><td>null</td><td>null</td><td>null</td><td>&quot;46900&quot;</td></tr><tr><td>&quot;T25LL0010K&quot;</td><td>&quot;ACRA&quot;</td><td>&quot;18 EIGHTEEN LLP&quot;</td><td>&quot;Limited Liability Partnership&quot;</td><td>null</td><td>null</td><td>null</td><td>&quot;Live&quot;</td><td>&quot;2025-01-03&quot;</td><td>&quot;2025-01-03&quot;</td><td>&quot;LOCAL&quot;</td><td>&quot;731&quot;</td><td>&quot;CLEMENTI WEST STREET 2&quot;</td><td>&quot;03&quot;</td><td>&quot;296&quot;</td><td>null</td><td>&quot;120731&quot;</td><td>null</td><td>null</td><td>&quot;2026-04-03&quot;</td><td>null</td><td>47801</td><td>null</td><td>null</td><td>null</td><td>null</td><td>null</td><td>2</td><td>null</td><td>null</td><td>null</td><td>null</td><td>null</td><td>null</td><td>null</td><td>null</td><td>null</td><td>null</td><td>null</td><td>null</td><td>null</td><td>null</td><td>null</td><td>null</td><td>null</td><td>null</td><td>null</td><td>null</td><td>null</td><td>null</td><td>null</td><td>null</td><td>null</td><td>&quot;47801&quot;</td></tr><tr><td>&quot;T25LL0046A&quot;</td><td>&quot;ACRA&quot;</td><td>&quot;23LR CONSULTANTS LLP&quot;</td><td>&quot;Limited Liability Partnership&quot;</td><td>null</td><td>null</td><td>null</td><td>&quot;Live&quot;</td><td>&quot;2025-01-12&quot;</td><td>&quot;2025-01-17&quot;</td><td>&quot;LOCAL&quot;</td><td>&quot;640A&quot;</td><td>&quot;TAMPINES STREET 62&quot;</td><td>&quot;07&quot;</td><td>&quot;138&quot;</td><td>null</td><td>&quot;521640&quot;</td><td>null</td><td>null</td><td>&quot;2026-04-17&quot;</td><td>null</td><td>52252</td><td>null</td><td>null</td><td>&quot;52292&quot;</td><td>null</td><td>null</td><td>2</td><td>null</td><td>null</td><td>null</td><td>null</td><td>null</td><td>null</td><td>null</td><td>null</td><td>null</td><td>null</td><td>null</td><td>null</td><td>null</td><td>null</td><td>null</td><td>null</td><td>null</td><td>null</td><td>null</td><td>null</td><td>null</td><td>null</td><td>null</td><td>null</td><td>null</td><td>&quot;52252&quot;</td></tr><tr><td>&quot;T25LP0009K&quot;</td><td>&quot;ACRA&quot;</td><td>&quot;180 GEORGE STREET INVESTOR TRU…</td><td>&quot;Limited Partnership&quot;</td><td>null</td><td>null</td><td>null</td><td>&quot;Live&quot;</td><td>&quot;2025-01-23&quot;</td><td>&quot;2025-01-23&quot;</td><td>&quot;LOCAL&quot;</td><td>&quot;50&quot;</td><td>&quot;COLLYER QUAY&quot;</td><td>&quot;04&quot;</td><td>&quot;03&quot;</td><td>&quot;OUE BAYFRONT&quot;</td><td>&quot;49321&quot;</td><td>null</td><td>null</td><td>null</td><td>null</td><td>64202</td><td>null</td><td>null</td><td>null</td><td>null</td><td>null</td><td>3</td><td>null</td><td>null</td><td>null</td><td>null</td><td>null</td><td>null</td><td>null</td><td>null</td><td>null</td><td>null</td><td>null</td><td>null</td><td>null</td><td>null</td><td>null</td><td>null</td><td>null</td><td>null</td><td>null</td><td>null</td><td>null</td><td>null</td><td>null</td><td>null</td><td>null</td><td>&quot;64202&quot;</td></tr></tbody></table></div>"
      ],
      "text/plain": [
       "shape: (542_734, 54)\n",
       "┌───────────┬───────────┬───────────┬───────────┬───┬───────────┬───────────┬───────────┬──────────┐\n",
       "│ uen       ┆ issuance_ ┆ entity_na ┆ entity_ty ┆ … ┆ name_of_a ┆ uen_of_au ┆ name_of_a ┆ retrieve │\n",
       "│ ---       ┆ agency_id ┆ me        ┆ pe_descri ┆   ┆ udit_firm ┆ dit_firm5 ┆ udit_firm ┆ d_ssic_c │\n",
       "│ str       ┆ ---       ┆ ---       ┆ ption     ┆   ┆ 4         ┆ ---       ┆ 5         ┆ ode      │\n",
       "│           ┆ str       ┆ str       ┆ ---       ┆   ┆ ---       ┆ str       ┆ ---       ┆ ---      │\n",
       "│           ┆           ┆           ┆ str       ┆   ┆ str       ┆           ┆ str       ┆ str      │\n",
       "╞═══════════╪═══════════╪═══════════╪═══════════╪═══╪═══════════╪═══════════╪═══════════╪══════════╡\n",
       "│ 00182000A ┆ ACRA      ┆ AIK SENG  ┆ Sole Prop ┆ … ┆ null      ┆ null      ┆ null      ┆ 46302    │\n",
       "│           ┆           ┆ HENG      ┆ rietorshi ┆   ┆           ┆           ┆           ┆          │\n",
       "│           ┆           ┆           ┆ p/ Partne ┆   ┆           ┆           ┆           ┆          │\n",
       "│           ┆           ┆           ┆ rsh…      ┆   ┆           ┆           ┆           ┆          │\n",
       "│ 00233500W ┆ ACRA      ┆ ASIA      ┆ Sole Prop ┆ … ┆ null      ┆ null      ┆ null      ┆ 46411    │\n",
       "│           ┆           ┆ STORE     ┆ rietorshi ┆   ┆           ┆           ┆           ┆          │\n",
       "│           ┆           ┆           ┆ p/ Partne ┆   ┆           ┆           ┆           ┆          │\n",
       "│           ┆           ┆           ┆ rsh…      ┆   ┆           ┆           ┆           ┆          │\n",
       "│ 00733000J ┆ ACRA      ┆ AIK CHE   ┆ Sole Prop ┆ … ┆ null      ┆ null      ┆ null      ┆ 82999    │\n",
       "│           ┆           ┆ HIONG     ┆ rietorshi ┆   ┆           ┆           ┆           ┆          │\n",
       "│           ┆           ┆           ┆ p/ Partne ┆   ┆           ┆           ┆           ┆          │\n",
       "│           ┆           ┆           ┆ rsh…      ┆   ┆           ┆           ┆           ┆          │\n",
       "│ 00927000X ┆ ACRA      ┆ A WALIMOH ┆ Sole Prop ┆ … ┆ null      ┆ null      ┆ null      ┆ 46411    │\n",
       "│           ┆           ┆ AMED BROS ┆ rietorshi ┆   ┆           ┆           ┆           ┆          │\n",
       "│           ┆           ┆           ┆ p/ Partne ┆   ┆           ┆           ┆           ┆          │\n",
       "│           ┆           ┆           ┆ rsh…      ┆   ┆           ┆           ┆           ┆          │\n",
       "│ 01173000E ┆ ACRA      ┆ ANG TECK  ┆ Sole Prop ┆ … ┆ null      ┆ null      ┆ null      ┆ 47711    │\n",
       "│           ┆           ┆ MOH DEPAR ┆ rietorshi ┆   ┆           ┆           ┆           ┆          │\n",
       "│           ┆           ┆ TMENT     ┆ p/ Partne ┆   ┆           ┆           ┆           ┆          │\n",
       "│           ┆           ┆ STORE     ┆ rsh…      ┆   ┆           ┆           ┆           ┆          │\n",
       "│ …         ┆ …         ┆ …         ┆ …         ┆ … ┆ …         ┆ …         ┆ …         ┆ …        │\n",
       "│ T24LL1209 ┆ ACRA      ┆ 3Z OCEAN  ┆ Limited   ┆ … ┆ null      ┆ null      ┆ null      ┆ 46661    │\n",
       "│ C         ┆           ┆ Limited   ┆ Liability ┆   ┆           ┆           ┆           ┆          │\n",
       "│           ┆           ┆ Liability ┆ Partnersh ┆   ┆           ┆           ┆           ┆          │\n",
       "│           ┆           ┆ Par…      ┆ ip        ┆   ┆           ┆           ┆           ┆          │\n",
       "│ T24LL1270 ┆ ACRA      ┆ 3REE INVE ┆ Limited   ┆ … ┆ null      ┆ null      ┆ null      ┆ 46900    │\n",
       "│ H         ┆           ┆ STMENTS   ┆ Liability ┆   ┆           ┆           ┆           ┆          │\n",
       "│           ┆           ┆ LLP       ┆ Partnersh ┆   ┆           ┆           ┆           ┆          │\n",
       "│           ┆           ┆           ┆ ip        ┆   ┆           ┆           ┆           ┆          │\n",
       "│ T25LL0010 ┆ ACRA      ┆ 18        ┆ Limited   ┆ … ┆ null      ┆ null      ┆ null      ┆ 47801    │\n",
       "│ K         ┆           ┆ EIGHTEEN  ┆ Liability ┆   ┆           ┆           ┆           ┆          │\n",
       "│           ┆           ┆ LLP       ┆ Partnersh ┆   ┆           ┆           ┆           ┆          │\n",
       "│           ┆           ┆           ┆ ip        ┆   ┆           ┆           ┆           ┆          │\n",
       "│ T25LL0046 ┆ ACRA      ┆ 23LR CONS ┆ Limited   ┆ … ┆ null      ┆ null      ┆ null      ┆ 52252    │\n",
       "│ A         ┆           ┆ ULTANTS   ┆ Liability ┆   ┆           ┆           ┆           ┆          │\n",
       "│           ┆           ┆ LLP       ┆ Partnersh ┆   ┆           ┆           ┆           ┆          │\n",
       "│           ┆           ┆           ┆ ip        ┆   ┆           ┆           ┆           ┆          │\n",
       "│ T25LP0009 ┆ ACRA      ┆ 180       ┆ Limited   ┆ … ┆ null      ┆ null      ┆ null      ┆ 64202    │\n",
       "│ K         ┆           ┆ GEORGE    ┆ Partnersh ┆   ┆           ┆           ┆           ┆          │\n",
       "│           ┆           ┆ STREET    ┆ ip        ┆   ┆           ┆           ┆           ┆          │\n",
       "│           ┆           ┆ INVESTOR  ┆           ┆   ┆           ┆           ┆           ┆          │\n",
       "│           ┆           ┆ TRU…      ┆           ┆   ┆           ┆           ┆           ┆          │\n",
       "└───────────┴───────────┴───────────┴───────────┴───┴───────────┴───────────┴───────────┴──────────┘"
      ]
     },
     "execution_count": 48,
     "metadata": {},
     "output_type": "execute_result"
    }
   ],
   "source": [
    "df = df.with_columns(\n",
    "    pl.col(\"primary_ssic_code\").cast(pl.Utf8).alias(\"retrieved_ssic_code\")\n",
    ")\n",
    "\n",
    "df"
   ]
  },
  {
   "cell_type": "code",
   "execution_count": 53,
   "metadata": {},
   "outputs": [
    {
     "data": {
      "text/html": [
       "<div><style>\n",
       ".dataframe > thead > tr,\n",
       ".dataframe > tbody > tr {\n",
       "  text-align: right;\n",
       "  white-space: pre-wrap;\n",
       "}\n",
       "</style>\n",
       "<small>shape: (542_734, 56)</small><table border=\"1\" class=\"dataframe\"><thead><tr><th>uen</th><th>issuance_agency_id</th><th>entity_name</th><th>entity_type_description</th><th>business_constitution_description</th><th>company_type_description</th><th>paf_constitution_description</th><th>entity_status_description</th><th>registration_incorporation_date</th><th>uen_issue_date</th><th>address_type</th><th>block</th><th>street_name</th><th>level_no</th><th>unit_no</th><th>building_name</th><th>postal_code</th><th>other_address_line1</th><th>other_address_line2</th><th>account_due_date</th><th>annual_return_date</th><th>primary_ssic_code</th><th>primary_ssic_description</th><th>primary_user_described_activity</th><th>secondary_ssic_code</th><th>secondary_ssic_description</th><th>secondary_user_described_activity</th><th>no_of_officers</th><th>former_entity_name1</th><th>former_entity_name2</th><th>former_entity_name3</th><th>former_entity_name4</th><th>former_entity_name5</th><th>former_entity_name6</th><th>former_entity_name7</th><th>former_entity_name8</th><th>former_entity_name9</th><th>former_entity_name10</th><th>former_entity_name11</th><th>former_entity_name12</th><th>former_entity_name13</th><th>former_entity_name14</th><th>former_entity_name15</th><th>uen_of_audit_firm1</th><th>name_of_audit_firm1</th><th>uen_of_audit_firm2</th><th>name_of_audit_firm2</th><th>uen_of_audit_firm3</th><th>name_of_audit_firm3</th><th>uen_of_audit_firm4</th><th>name_of_audit_firm4</th><th>uen_of_audit_firm5</th><th>name_of_audit_firm5</th><th>retrieved_ssic_code</th><th>retrieved_ssic_description</th><th>retrieved_ssic_description_right</th></tr><tr><td>str</td><td>str</td><td>str</td><td>str</td><td>str</td><td>str</td><td>str</td><td>str</td><td>str</td><td>str</td><td>str</td><td>str</td><td>str</td><td>str</td><td>str</td><td>str</td><td>str</td><td>str</td><td>str</td><td>str</td><td>str</td><td>i64</td><td>str</td><td>str</td><td>str</td><td>str</td><td>str</td><td>i64</td><td>str</td><td>str</td><td>str</td><td>str</td><td>str</td><td>str</td><td>str</td><td>str</td><td>str</td><td>str</td><td>str</td><td>str</td><td>str</td><td>str</td><td>str</td><td>str</td><td>str</td><td>str</td><td>str</td><td>str</td><td>str</td><td>str</td><td>str</td><td>str</td><td>str</td><td>str</td><td>str</td><td>str</td></tr></thead><tbody><tr><td>&quot;00182000A&quot;</td><td>&quot;ACRA&quot;</td><td>&quot;AIK SENG HENG&quot;</td><td>&quot;Sole Proprietorship/ Partnersh…</td><td>&quot;Partnership&quot;</td><td>null</td><td>null</td><td>&quot;Live&quot;</td><td>&quot;1975-02-07&quot;</td><td>&quot;1975-02-07&quot;</td><td>&quot;LOCAL&quot;</td><td>&quot;35&quot;</td><td>&quot;FISHERY PORT ROAD&quot;</td><td>&quot;RM&quot;</td><td>&quot;212&quot;</td><td>&quot;NEW FISH MERCHANT BUILDING&quot;</td><td>&quot;619742&quot;</td><td>null</td><td>null</td><td>null</td><td>null</td><td>46302</td><td>&quot;WHOLESALE FISH MERCHANT AND TR…</td><td>null</td><td>null</td><td>&quot;WHOLESALE FISH MERCHANT AND TR…</td><td>null</td><td>5</td><td>null</td><td>null</td><td>null</td><td>null</td><td>null</td><td>null</td><td>null</td><td>null</td><td>null</td><td>null</td><td>null</td><td>null</td><td>null</td><td>null</td><td>null</td><td>null</td><td>null</td><td>null</td><td>null</td><td>null</td><td>null</td><td>null</td><td>null</td><td>null</td><td>null</td><td>&quot;46302&quot;</td><td>&quot;Wholesale of livestock, meat, …</td><td>&quot;Wholesale of livestock, meat, …</td></tr><tr><td>&quot;00233500W&quot;</td><td>&quot;ACRA&quot;</td><td>&quot;ASIA STORE&quot;</td><td>&quot;Sole Proprietorship/ Partnersh…</td><td>&quot;Partnership&quot;</td><td>null</td><td>null</td><td>&quot;Live&quot;</td><td>&quot;1974-10-28&quot;</td><td>&quot;1974-10-28&quot;</td><td>&quot;LOCAL&quot;</td><td>&quot;232&quot;</td><td>&quot;SIMS AVENUE&quot;</td><td>null</td><td>null</td><td>null</td><td>&quot;387509&quot;</td><td>null</td><td>null</td><td>null</td><td>null</td><td>46411</td><td>&quot;MANUF CHEMICAL PRODS NEC (EG. …</td><td>null</td><td>&quot;20234&quot;</td><td>&quot;MANUF CHEMICAL PRODS NEC (EG. …</td><td>null</td><td>3</td><td>null</td><td>null</td><td>null</td><td>null</td><td>null</td><td>null</td><td>null</td><td>null</td><td>null</td><td>null</td><td>null</td><td>null</td><td>null</td><td>null</td><td>null</td><td>null</td><td>null</td><td>null</td><td>null</td><td>null</td><td>null</td><td>null</td><td>null</td><td>null</td><td>null</td><td>&quot;46411&quot;</td><td>&quot;Wholesale of textiles and leat…</td><td>&quot;Wholesale of textiles and leat…</td></tr><tr><td>&quot;00733000J&quot;</td><td>&quot;ACRA&quot;</td><td>&quot;AIK CHE HIONG&quot;</td><td>&quot;Sole Proprietorship/ Partnersh…</td><td>&quot;Partnership&quot;</td><td>null</td><td>null</td><td>&quot;Live&quot;</td><td>&quot;1974-11-02&quot;</td><td>&quot;1974-11-02&quot;</td><td>&quot;LOCAL&quot;</td><td>&quot;1&quot;</td><td>&quot;ANG MO KIO INDUSTRIAL PARK 2A&quot;</td><td>&quot;01&quot;</td><td>&quot;09&quot;</td><td>&quot;AMK TECH I&quot;</td><td>&quot;568049&quot;</td><td>null</td><td>null</td><td>null</td><td>null</td><td>82999</td><td>&quot;MANUFACTURED JOSS STICK&quot;</td><td>null</td><td>&quot;46499&quot;</td><td>&quot;MANUFACTURED JOSS STICK&quot;</td><td>null</td><td>3</td><td>null</td><td>null</td><td>null</td><td>null</td><td>null</td><td>null</td><td>null</td><td>null</td><td>null</td><td>null</td><td>null</td><td>null</td><td>null</td><td>null</td><td>null</td><td>null</td><td>null</td><td>null</td><td>null</td><td>null</td><td>null</td><td>null</td><td>null</td><td>null</td><td>null</td><td>&quot;82999&quot;</td><td>&quot;Other business support service…</td><td>&quot;Other business support service…</td></tr><tr><td>&quot;00927000X&quot;</td><td>&quot;ACRA&quot;</td><td>&quot;A WALIMOHAMED BROS&quot;</td><td>&quot;Sole Proprietorship/ Partnersh…</td><td>&quot;Partnership&quot;</td><td>null</td><td>null</td><td>&quot;Live&quot;</td><td>&quot;1974-11-12&quot;</td><td>&quot;1974-11-12&quot;</td><td>&quot;LOCAL&quot;</td><td>&quot;70&quot;</td><td>&quot;JELLICOE ROAD&quot;</td><td>&quot;01&quot;</td><td>&quot;05&quot;</td><td>&quot;V HOTEL LAVENDER&quot;</td><td>&quot;208767&quot;</td><td>null</td><td>null</td><td>null</td><td>null</td><td>46411</td><td>null</td><td>null</td><td>&quot;66126&quot;</td><td>null</td><td>null</td><td>7</td><td>null</td><td>null</td><td>null</td><td>null</td><td>null</td><td>null</td><td>null</td><td>null</td><td>null</td><td>null</td><td>null</td><td>null</td><td>null</td><td>null</td><td>null</td><td>null</td><td>null</td><td>null</td><td>null</td><td>null</td><td>null</td><td>null</td><td>null</td><td>null</td><td>null</td><td>&quot;46411&quot;</td><td>&quot;Wholesale of textiles and leat…</td><td>&quot;Wholesale of textiles and leat…</td></tr><tr><td>&quot;01173000E&quot;</td><td>&quot;ACRA&quot;</td><td>&quot;ANG TECK MOH DEPARTMENT STORE&quot;</td><td>&quot;Sole Proprietorship/ Partnersh…</td><td>&quot;Partnership&quot;</td><td>null</td><td>null</td><td>&quot;Live&quot;</td><td>&quot;1974-10-30&quot;</td><td>&quot;1974-10-30&quot;</td><td>&quot;LOCAL&quot;</td><td>&quot;4&quot;</td><td>&quot;WOODLANDS STREET 12&quot;</td><td>&quot;02&quot;</td><td>&quot;31&quot;</td><td>null</td><td>&quot;738623&quot;</td><td>null</td><td>null</td><td>null</td><td>null</td><td>47711</td><td>&quot;INC CHILDREN / INFANTS&#x27; WEAR, …</td><td>null</td><td>&quot;47214&quot;</td><td>&quot;INC CHILDREN / INFANTS&#x27; WEAR, …</td><td>null</td><td>4</td><td>null</td><td>null</td><td>null</td><td>null</td><td>null</td><td>null</td><td>null</td><td>null</td><td>null</td><td>null</td><td>null</td><td>null</td><td>null</td><td>null</td><td>null</td><td>null</td><td>null</td><td>null</td><td>null</td><td>null</td><td>null</td><td>null</td><td>null</td><td>null</td><td>null</td><td>&quot;47711&quot;</td><td>&quot;Retail sale of clothing for ad…</td><td>&quot;Retail sale of clothing for ad…</td></tr><tr><td>&hellip;</td><td>&hellip;</td><td>&hellip;</td><td>&hellip;</td><td>&hellip;</td><td>&hellip;</td><td>&hellip;</td><td>&hellip;</td><td>&hellip;</td><td>&hellip;</td><td>&hellip;</td><td>&hellip;</td><td>&hellip;</td><td>&hellip;</td><td>&hellip;</td><td>&hellip;</td><td>&hellip;</td><td>&hellip;</td><td>&hellip;</td><td>&hellip;</td><td>&hellip;</td><td>&hellip;</td><td>&hellip;</td><td>&hellip;</td><td>&hellip;</td><td>&hellip;</td><td>&hellip;</td><td>&hellip;</td><td>&hellip;</td><td>&hellip;</td><td>&hellip;</td><td>&hellip;</td><td>&hellip;</td><td>&hellip;</td><td>&hellip;</td><td>&hellip;</td><td>&hellip;</td><td>&hellip;</td><td>&hellip;</td><td>&hellip;</td><td>&hellip;</td><td>&hellip;</td><td>&hellip;</td><td>&hellip;</td><td>&hellip;</td><td>&hellip;</td><td>&hellip;</td><td>&hellip;</td><td>&hellip;</td><td>&hellip;</td><td>&hellip;</td><td>&hellip;</td><td>&hellip;</td><td>&hellip;</td><td>&hellip;</td><td>&hellip;</td></tr><tr><td>&quot;T24LL1209C&quot;</td><td>&quot;ACRA&quot;</td><td>&quot;3Z OCEAN Limited Liability Par…</td><td>&quot;Limited Liability Partnership&quot;</td><td>null</td><td>null</td><td>null</td><td>&quot;Live&quot;</td><td>&quot;2024-11-04&quot;</td><td>&quot;2024-11-04&quot;</td><td>&quot;LOCAL&quot;</td><td>&quot;134&quot;</td><td>&quot;MARSILING ROAD&quot;</td><td>&quot;08&quot;</td><td>&quot;2122&quot;</td><td>null</td><td>&quot;730134&quot;</td><td>null</td><td>null</td><td>&quot;2026-02-04&quot;</td><td>null</td><td>46661</td><td>&quot;46661&quot;</td><td>null</td><td>&quot;64202&quot;</td><td>&quot;46661&quot;</td><td>null</td><td>2</td><td>null</td><td>null</td><td>null</td><td>null</td><td>null</td><td>null</td><td>null</td><td>null</td><td>null</td><td>null</td><td>null</td><td>null</td><td>null</td><td>null</td><td>null</td><td>null</td><td>null</td><td>null</td><td>null</td><td>null</td><td>null</td><td>null</td><td>null</td><td>null</td><td>null</td><td>&quot;46661&quot;</td><td>&quot;Ship chandlers&quot;</td><td>&quot;Ship chandlers&quot;</td></tr><tr><td>&quot;T24LL1270H&quot;</td><td>&quot;ACRA&quot;</td><td>&quot;3REE INVESTMENTS LLP&quot;</td><td>&quot;Limited Liability Partnership&quot;</td><td>null</td><td>null</td><td>null</td><td>&quot;Live&quot;</td><td>&quot;2024-11-22&quot;</td><td>&quot;2024-11-22&quot;</td><td>&quot;LOCAL&quot;</td><td>&quot;79E&quot;</td><td>&quot;TOA PAYOH CENTRAL&quot;</td><td>&quot;03&quot;</td><td>&quot;65&quot;</td><td>&quot;CENTRAL HORIZON&quot;</td><td>&quot;315079&quot;</td><td>null</td><td>null</td><td>&quot;2026-02-22&quot;</td><td>null</td><td>46900</td><td>null</td><td>null</td><td>&quot;64202&quot;</td><td>null</td><td>null</td><td>2</td><td>null</td><td>null</td><td>null</td><td>null</td><td>null</td><td>null</td><td>null</td><td>null</td><td>null</td><td>null</td><td>null</td><td>null</td><td>null</td><td>null</td><td>null</td><td>null</td><td>null</td><td>null</td><td>null</td><td>null</td><td>null</td><td>null</td><td>null</td><td>null</td><td>null</td><td>&quot;46900&quot;</td><td>&quot;Wholesale trade of a variety o…</td><td>&quot;Wholesale trade of a variety o…</td></tr><tr><td>&quot;T25LL0010K&quot;</td><td>&quot;ACRA&quot;</td><td>&quot;18 EIGHTEEN LLP&quot;</td><td>&quot;Limited Liability Partnership&quot;</td><td>null</td><td>null</td><td>null</td><td>&quot;Live&quot;</td><td>&quot;2025-01-03&quot;</td><td>&quot;2025-01-03&quot;</td><td>&quot;LOCAL&quot;</td><td>&quot;731&quot;</td><td>&quot;CLEMENTI WEST STREET 2&quot;</td><td>&quot;03&quot;</td><td>&quot;296&quot;</td><td>null</td><td>&quot;120731&quot;</td><td>null</td><td>null</td><td>&quot;2026-04-03&quot;</td><td>null</td><td>47801</td><td>null</td><td>null</td><td>null</td><td>null</td><td>null</td><td>2</td><td>null</td><td>null</td><td>null</td><td>null</td><td>null</td><td>null</td><td>null</td><td>null</td><td>null</td><td>null</td><td>null</td><td>null</td><td>null</td><td>null</td><td>null</td><td>null</td><td>null</td><td>null</td><td>null</td><td>null</td><td>null</td><td>null</td><td>null</td><td>null</td><td>null</td><td>&quot;47801&quot;</td><td>&quot;Stalls (including pushcarts) s…</td><td>&quot;Stalls (including pushcarts) s…</td></tr><tr><td>&quot;T25LL0046A&quot;</td><td>&quot;ACRA&quot;</td><td>&quot;23LR CONSULTANTS LLP&quot;</td><td>&quot;Limited Liability Partnership&quot;</td><td>null</td><td>null</td><td>null</td><td>&quot;Live&quot;</td><td>&quot;2025-01-12&quot;</td><td>&quot;2025-01-17&quot;</td><td>&quot;LOCAL&quot;</td><td>&quot;640A&quot;</td><td>&quot;TAMPINES STREET 62&quot;</td><td>&quot;07&quot;</td><td>&quot;138&quot;</td><td>null</td><td>&quot;521640&quot;</td><td>null</td><td>null</td><td>&quot;2026-04-17&quot;</td><td>null</td><td>52252</td><td>null</td><td>null</td><td>&quot;52292&quot;</td><td>null</td><td>null</td><td>2</td><td>null</td><td>null</td><td>null</td><td>null</td><td>null</td><td>null</td><td>null</td><td>null</td><td>null</td><td>null</td><td>null</td><td>null</td><td>null</td><td>null</td><td>null</td><td>null</td><td>null</td><td>null</td><td>null</td><td>null</td><td>null</td><td>null</td><td>null</td><td>null</td><td>null</td><td>&quot;52252&quot;</td><td>&quot;Marine surveying services othe…</td><td>&quot;Marine surveying services othe…</td></tr><tr><td>&quot;T25LP0009K&quot;</td><td>&quot;ACRA&quot;</td><td>&quot;180 GEORGE STREET INVESTOR TRU…</td><td>&quot;Limited Partnership&quot;</td><td>null</td><td>null</td><td>null</td><td>&quot;Live&quot;</td><td>&quot;2025-01-23&quot;</td><td>&quot;2025-01-23&quot;</td><td>&quot;LOCAL&quot;</td><td>&quot;50&quot;</td><td>&quot;COLLYER QUAY&quot;</td><td>&quot;04&quot;</td><td>&quot;03&quot;</td><td>&quot;OUE BAYFRONT&quot;</td><td>&quot;49321&quot;</td><td>null</td><td>null</td><td>null</td><td>null</td><td>64202</td><td>null</td><td>null</td><td>null</td><td>null</td><td>null</td><td>3</td><td>null</td><td>null</td><td>null</td><td>null</td><td>null</td><td>null</td><td>null</td><td>null</td><td>null</td><td>null</td><td>null</td><td>null</td><td>null</td><td>null</td><td>null</td><td>null</td><td>null</td><td>null</td><td>null</td><td>null</td><td>null</td><td>null</td><td>null</td><td>null</td><td>null</td><td>&quot;64202&quot;</td><td>&quot;Other holding companies&quot;</td><td>&quot;Other holding companies&quot;</td></tr></tbody></table></div>"
      ],
      "text/plain": [
       "shape: (542_734, 56)\n",
       "┌───────────┬───────────┬───────────┬───────────┬───┬───────────┬───────────┬───────────┬──────────┐\n",
       "│ uen       ┆ issuance_ ┆ entity_na ┆ entity_ty ┆ … ┆ name_of_a ┆ retrieved ┆ retrieved ┆ retrieve │\n",
       "│ ---       ┆ agency_id ┆ me        ┆ pe_descri ┆   ┆ udit_firm ┆ _ssic_cod ┆ _ssic_des ┆ d_ssic_d │\n",
       "│ str       ┆ ---       ┆ ---       ┆ ption     ┆   ┆ 5         ┆ e         ┆ cription  ┆ escripti │\n",
       "│           ┆ str       ┆ str       ┆ ---       ┆   ┆ ---       ┆ ---       ┆ ---       ┆ on_rig…  │\n",
       "│           ┆           ┆           ┆ str       ┆   ┆ str       ┆ str       ┆ str       ┆ ---      │\n",
       "│           ┆           ┆           ┆           ┆   ┆           ┆           ┆           ┆ str      │\n",
       "╞═══════════╪═══════════╪═══════════╪═══════════╪═══╪═══════════╪═══════════╪═══════════╪══════════╡\n",
       "│ 00182000A ┆ ACRA      ┆ AIK SENG  ┆ Sole Prop ┆ … ┆ null      ┆ 46302     ┆ Wholesale ┆ Wholesal │\n",
       "│           ┆           ┆ HENG      ┆ rietorshi ┆   ┆           ┆           ┆ of livest ┆ e of liv │\n",
       "│           ┆           ┆           ┆ p/ Partne ┆   ┆           ┆           ┆ ock,      ┆ estock,  │\n",
       "│           ┆           ┆           ┆ rsh…      ┆   ┆           ┆           ┆ meat, …   ┆ meat, …  │\n",
       "│ 00233500W ┆ ACRA      ┆ ASIA      ┆ Sole Prop ┆ … ┆ null      ┆ 46411     ┆ Wholesale ┆ Wholesal │\n",
       "│           ┆           ┆ STORE     ┆ rietorshi ┆   ┆           ┆           ┆ of        ┆ e of     │\n",
       "│           ┆           ┆           ┆ p/ Partne ┆   ┆           ┆           ┆ textiles  ┆ textiles │\n",
       "│           ┆           ┆           ┆ rsh…      ┆   ┆           ┆           ┆ and leat… ┆ and      │\n",
       "│           ┆           ┆           ┆           ┆   ┆           ┆           ┆           ┆ leat…    │\n",
       "│ 00733000J ┆ ACRA      ┆ AIK CHE   ┆ Sole Prop ┆ … ┆ null      ┆ 82999     ┆ Other     ┆ Other    │\n",
       "│           ┆           ┆ HIONG     ┆ rietorshi ┆   ┆           ┆           ┆ business  ┆ business │\n",
       "│           ┆           ┆           ┆ p/ Partne ┆   ┆           ┆           ┆ support   ┆ support  │\n",
       "│           ┆           ┆           ┆ rsh…      ┆   ┆           ┆           ┆ service…  ┆ service… │\n",
       "│ 00927000X ┆ ACRA      ┆ A WALIMOH ┆ Sole Prop ┆ … ┆ null      ┆ 46411     ┆ Wholesale ┆ Wholesal │\n",
       "│           ┆           ┆ AMED BROS ┆ rietorshi ┆   ┆           ┆           ┆ of        ┆ e of     │\n",
       "│           ┆           ┆           ┆ p/ Partne ┆   ┆           ┆           ┆ textiles  ┆ textiles │\n",
       "│           ┆           ┆           ┆ rsh…      ┆   ┆           ┆           ┆ and leat… ┆ and      │\n",
       "│           ┆           ┆           ┆           ┆   ┆           ┆           ┆           ┆ leat…    │\n",
       "│ 01173000E ┆ ACRA      ┆ ANG TECK  ┆ Sole Prop ┆ … ┆ null      ┆ 47711     ┆ Retail    ┆ Retail   │\n",
       "│           ┆           ┆ MOH DEPAR ┆ rietorshi ┆   ┆           ┆           ┆ sale of   ┆ sale of  │\n",
       "│           ┆           ┆ TMENT     ┆ p/ Partne ┆   ┆           ┆           ┆ clothing  ┆ clothing │\n",
       "│           ┆           ┆ STORE     ┆ rsh…      ┆   ┆           ┆           ┆ for ad…   ┆ for ad…  │\n",
       "│ …         ┆ …         ┆ …         ┆ …         ┆ … ┆ …         ┆ …         ┆ …         ┆ …        │\n",
       "│ T24LL1209 ┆ ACRA      ┆ 3Z OCEAN  ┆ Limited   ┆ … ┆ null      ┆ 46661     ┆ Ship      ┆ Ship cha │\n",
       "│ C         ┆           ┆ Limited   ┆ Liability ┆   ┆           ┆           ┆ chandlers ┆ ndlers   │\n",
       "│           ┆           ┆ Liability ┆ Partnersh ┆   ┆           ┆           ┆           ┆          │\n",
       "│           ┆           ┆ Par…      ┆ ip        ┆   ┆           ┆           ┆           ┆          │\n",
       "│ T24LL1270 ┆ ACRA      ┆ 3REE INVE ┆ Limited   ┆ … ┆ null      ┆ 46900     ┆ Wholesale ┆ Wholesal │\n",
       "│ H         ┆           ┆ STMENTS   ┆ Liability ┆   ┆           ┆           ┆ trade of  ┆ e trade  │\n",
       "│           ┆           ┆ LLP       ┆ Partnersh ┆   ┆           ┆           ┆ a variety ┆ of a     │\n",
       "│           ┆           ┆           ┆ ip        ┆   ┆           ┆           ┆ o…        ┆ variety  │\n",
       "│           ┆           ┆           ┆           ┆   ┆           ┆           ┆           ┆ o…       │\n",
       "│ T25LL0010 ┆ ACRA      ┆ 18        ┆ Limited   ┆ … ┆ null      ┆ 47801     ┆ Stalls    ┆ Stalls   │\n",
       "│ K         ┆           ┆ EIGHTEEN  ┆ Liability ┆   ┆           ┆           ┆ (includin ┆ (includi │\n",
       "│           ┆           ┆ LLP       ┆ Partnersh ┆   ┆           ┆           ┆ g pushcar ┆ ng pushc │\n",
       "│           ┆           ┆           ┆ ip        ┆   ┆           ┆           ┆ ts) s…    ┆ arts) s… │\n",
       "│ T25LL0046 ┆ ACRA      ┆ 23LR CONS ┆ Limited   ┆ … ┆ null      ┆ 52252     ┆ Marine    ┆ Marine   │\n",
       "│ A         ┆           ┆ ULTANTS   ┆ Liability ┆   ┆           ┆           ┆ surveying ┆ surveyin │\n",
       "│           ┆           ┆ LLP       ┆ Partnersh ┆   ┆           ┆           ┆ services  ┆ g        │\n",
       "│           ┆           ┆           ┆ ip        ┆   ┆           ┆           ┆ othe…     ┆ services │\n",
       "│           ┆           ┆           ┆           ┆   ┆           ┆           ┆           ┆ othe…    │\n",
       "│ T25LP0009 ┆ ACRA      ┆ 180       ┆ Limited   ┆ … ┆ null      ┆ 64202     ┆ Other     ┆ Other    │\n",
       "│ K         ┆           ┆ GEORGE    ┆ Partnersh ┆   ┆           ┆           ┆ holding   ┆ holding  │\n",
       "│           ┆           ┆ STREET    ┆ ip        ┆   ┆           ┆           ┆ companies ┆ companie │\n",
       "│           ┆           ┆ INVESTOR  ┆           ┆   ┆           ┆           ┆           ┆ s        │\n",
       "│           ┆           ┆ TRU…      ┆           ┆   ┆           ┆           ┆           ┆          │\n",
       "└───────────┴───────────┴───────────┴───────────┴───┴───────────┴───────────┴───────────┴──────────┘"
      ]
     },
     "execution_count": 53,
     "metadata": {},
     "output_type": "execute_result"
    }
   ],
   "source": [
    "df = df.join(\n",
    "    ssic_df.select([\n",
    "        pl.col(\"Singapore Standard Industrial Classification 2020 – Detailed Definitions\").alias(\"retrieved_ssic_code\"),\n",
    "        pl.col(\"__UNNAMED__1\").alias(\"retrieved_ssic_description\"),\n",
    "    ]),\n",
    "    on=\"retrieved_ssic_code\",\n",
    "    how=\"left\"\n",
    ")\n",
    "\n",
    "df"
   ]
  },
  {
   "cell_type": "code",
   "execution_count": 54,
   "metadata": {},
   "outputs": [],
   "source": [
    "df.write_csv(\"ACRA.csv\")"
   ]
  }
 ],
 "metadata": {
  "kernelspec": {
   "display_name": "base",
   "language": "python",
   "name": "python3"
  },
  "language_info": {
   "codemirror_mode": {
    "name": "ipython",
    "version": 3
   },
   "file_extension": ".py",
   "mimetype": "text/x-python",
   "name": "python",
   "nbconvert_exporter": "python",
   "pygments_lexer": "ipython3",
   "version": "3.12.4"
  }
 },
 "nbformat": 4,
 "nbformat_minor": 2
}
